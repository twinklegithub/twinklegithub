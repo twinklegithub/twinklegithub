{
  "cells": [
    {
      "cell_type": "markdown",
      "metadata": {
        "id": "view-in-github",
        "colab_type": "text"
      },
      "source": [
        "<a href=\"https://colab.research.google.com/github/twinklegithub/twinklegithub/blob/main/week05/week05-inclass-functions.ipynb\" target=\"_parent\"><img src=\"https://colab.research.google.com/assets/colab-badge.svg\" alt=\"Open In Colab\"/></a>"
      ]
    },
    {
      "cell_type": "markdown",
      "metadata": {
        "id": "UJkfVM2jpnFu"
      },
      "source": [
        "### Default Parameters\n",
        "Nurses usually take a patient's heart beat for 15 seconds. Use a default argument to set the number of seconds in the following function.\n",
        "\n",
        "How does that change the number of parameters in the function call?"
      ]
    },
    {
      "cell_type": "code",
      "execution_count": null,
      "metadata": {
        "vscode": {
          "languageId": "plaintext"
        },
        "id": "XooWrUgDpnF1"
      },
      "outputs": [],
      "source": [
        "#Set a default value for seconds\n",
        "def heart_beat_per_minute(beats, seconds) :\n",
        "    multiplier = 60 / seconds\n",
        "    return beats * multiplier\n",
        "\n",
        "#Change this function call\n",
        "heart_beat_per_minute(20, 15)"
      ]
    },
    {
      "cell_type": "code",
      "execution_count": null,
      "metadata": {
        "vscode": {
          "languageId": "plaintext"
        },
        "id": "eO9R_0nipnF4"
      },
      "outputs": [],
      "source": [
        "#Which of these function calls do you need to change?\n",
        "\n",
        "assert(heart_beat_per_minute(20, 15) == 80)\n",
        "assert(heart_beat_per_minute(20, 20) == 60)"
      ]
    },
    {
      "cell_type": "markdown",
      "metadata": {
        "id": "kq_JlFwzpnF4"
      },
      "source": [
        "### Named Arguments\n",
        "Use named arguments in the function call to specify number of seconds first and beats second."
      ]
    },
    {
      "cell_type": "code",
      "execution_count": null,
      "metadata": {
        "vscode": {
          "languageId": "plaintext"
        },
        "id": "VbTslIAUpnF5"
      },
      "outputs": [],
      "source": [
        "# Use named arguments\n",
        "heart_beat_per_minute(20, 15)"
      ]
    },
    {
      "cell_type": "markdown",
      "metadata": {
        "id": "g1RgxmpcpnF6"
      },
      "source": [
        "### Arbitary List\n",
        "Use an arbitary list parameter to create a list that looks like \"First Last\""
      ]
    },
    {
      "cell_type": "code",
      "execution_count": null,
      "metadata": {
        "vscode": {
          "languageId": "plaintext"
        },
        "id": "e-g2FFvQpnF7"
      },
      "outputs": [],
      "source": [
        "def combine_names() :\n",
        "    names = []\n",
        "\n",
        "    # Do something\n",
        "\n",
        "    return names"
      ]
    },
    {
      "cell_type": "code",
      "execution_count": null,
      "metadata": {
        "vscode": {
          "languageId": "plaintext"
        },
        "id": "gV4wfr62pnF9"
      },
      "outputs": [],
      "source": [
        "expected = [\"Mickey Mouse\", \"Minnie Mouse\", \"Mighty Mouse\"]\n",
        "assert(combine_names(\"Mouse\", \"Mickey\", \"Minnie\", \"Mighty\") == expected)"
      ]
    }
  ],
  "metadata": {
    "kernelspec": {
      "display_name": "Python 3",
      "language": "python",
      "name": "python3"
    },
    "language_info": {
      "codemirror_mode": {
        "name": "ipython",
        "version": 3
      },
      "file_extension": ".py",
      "mimetype": "text/x-python",
      "name": "python",
      "nbconvert_exporter": "python",
      "pygments_lexer": "ipython3",
      "version": "3.10.11"
    },
    "colab": {
      "provenance": [],
      "include_colab_link": true
    }
  },
  "nbformat": 4,
  "nbformat_minor": 0
}